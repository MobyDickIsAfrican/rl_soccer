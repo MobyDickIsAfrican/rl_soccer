{
 "cells": [
  {
   "cell_type": "code",
   "execution_count": 1,
   "id": "bbff8409",
   "metadata": {},
   "outputs": [],
   "source": [
    "import matplotlib.pyplot as plt\n",
    "import matplotlib.image as mpimg\n",
    "import numpy as np\n",
    "import pandas as pd\n",
    "import os\n",
    "import re\n",
    "import seaborn as sns"
   ]
  },
  {
   "cell_type": "code",
   "execution_count": 3,
   "id": "408d3e06",
   "metadata": {},
   "outputs": [],
   "source": [
    "\n",
    "run_progress = []\n",
    "base_path = \"D:\\\\rl_soccer\\\\2vs0\\\\junio_2022\\\\\"\n",
    "\n",
    "for directory in os.listdir(base_path):\n",
    "        run_progress.append(pd.read_csv(f\"{base_path}\\\\{directory}\\\\progress.txt\", delimiter=\"\\t\"))\n",
    "\n",
    "run_progress = pd.concat(run_progress)\n"
   ]
  },
  {
   "cell_type": "code",
   "execution_count": 7,
   "id": "d444a1dc",
   "metadata": {},
   "outputs": [],
   "source": [
    "successful_games = np.where(run_progress[\"Success rate\"])[0]\n",
    "successful_game_count = np.sum(run_progress[\"Success rate\"])"
   ]
  },
  {
   "cell_type": "code",
   "execution_count": 9,
   "id": "7ff88cc9",
   "metadata": {},
   "outputs": [
    {
     "data": {
      "text/plain": [
       "0.715036091060522"
      ]
     },
     "execution_count": 9,
     "metadata": {},
     "output_type": "execute_result"
    }
   ],
   "source": [
    "successful_game_count/run_progress.shape[0]"
   ]
  },
  {
   "cell_type": "code",
   "execution_count": 195,
   "id": "bbf86ed4",
   "metadata": {},
   "outputs": [],
   "source": [
    "game_end = [a for a in np.where(progress[\"done\"])[0]]\n",
    "game_succ = [a for a in np.where(progress[\"done\"]*progress[\"goal_H_A\"] == 1)[0]]\n",
    "game_failed = [a for a in np.where(progress[\"done\"]*progress[\"goal_H_A\"] == -1)[0]]"
   ]
  },
  {
   "cell_type": "code",
   "execution_count": 196,
   "id": "8abe8e60",
   "metadata": {},
   "outputs": [
    {
     "data": {
      "text/plain": [
       "array([  0,   1,   2,   3,   4,   5,   6,   7,   8,   9,  10,  11,  12,\n",
       "        13,  14,  15,  16,  17,  18,  19,  20,  21,  22,  23,  24,  25,\n",
       "        26,  27,  28,  29,  30,  31,  32,  33,  34,  35,  36,  37,  38,\n",
       "        39,  40,  41,  42,  43,  44,  45,  46,  47,  48,  49,  50,  51,\n",
       "        52,  53,  54,  55,  56,  57,  58,  59,  60,  61,  62,  63,  64,\n",
       "        65,  66,  67,  68,  69,  70,  71,  72,  73,  74,  75,  76,  77,\n",
       "        78,  79,  80,  81,  82,  83,  84,  85,  86,  87,  88,  89,  90,\n",
       "        91,  92,  93,  94,  95,  96,  97,  98,  99, 100, 101, 102, 103,\n",
       "       104, 105, 106, 107, 108, 109, 110, 111, 112, 113, 114, 115, 116,\n",
       "       117, 118, 119, 120, 121, 122, 123, 124, 125, 126, 127, 128, 129,\n",
       "       130, 131, 132, 133, 134, 135, 136, 137, 138, 139, 140, 141, 142,\n",
       "       143, 144, 145, 146, 147, 148, 149, 150, 151, 152, 153, 154, 155,\n",
       "       156, 157, 158, 159, 160, 161, 162, 163, 164, 165, 166, 167, 168,\n",
       "       170, 171, 172, 173, 174, 175, 176, 177, 178, 179, 180, 181, 182,\n",
       "       183, 184, 185, 186, 187, 188, 189, 190, 191, 192, 193, 194, 195,\n",
       "       196, 197, 198, 199, 200, 201, 202, 203, 204, 205, 206, 207, 208,\n",
       "       209, 210, 211, 212, 213, 214, 215, 216, 217, 218, 219, 220, 221,\n",
       "       222, 223, 224, 225, 226, 227, 228, 229, 230, 231, 232, 233, 234,\n",
       "       235, 236, 237, 238, 239, 240, 241, 242, 243, 244, 245, 246, 247,\n",
       "       248, 249, 250, 251, 252, 253, 254, 255, 256, 257, 258, 259, 260,\n",
       "       261, 262, 263, 264, 265, 266, 267, 268, 269, 270, 271, 272, 273,\n",
       "       274, 275, 276, 277, 278, 279, 280, 281, 282, 283, 284, 285, 286,\n",
       "       287, 288, 289, 290, 291, 292, 293, 294, 295, 296, 297, 298, 299,\n",
       "       300, 301, 302, 303, 304, 305, 306, 307, 308, 309, 310, 311, 312,\n",
       "       313, 314, 315, 316, 317, 318, 319, 320, 321, 322, 323, 324, 325,\n",
       "       326, 327, 328, 329, 330, 331, 332, 333, 334, 335, 336, 337, 338,\n",
       "       339, 340, 341, 342, 343, 344, 345, 346, 347, 348, 349, 350, 351,\n",
       "       352, 353, 354, 355, 356, 357, 358, 359, 360, 361, 362, 363, 364,\n",
       "       365, 366, 367, 368, 369, 370, 371, 372, 373, 374, 375, 376, 377,\n",
       "       378, 379, 380, 381, 382, 383, 384, 385, 386, 387, 388, 389, 390,\n",
       "       391, 392, 393, 394, 395, 396, 397, 398, 399, 400, 401, 402, 403,\n",
       "       404, 405, 406, 407, 408, 409, 410, 411, 412, 413, 414, 415, 416,\n",
       "       417, 418, 419, 420, 421, 422, 423, 424, 425, 426, 427, 428, 429,\n",
       "       430, 431, 432, 433, 434, 435, 436, 437, 438, 439, 440, 441, 442,\n",
       "       443, 444, 445, 446, 447, 448, 449, 450, 451, 452, 453, 454, 455,\n",
       "       456, 457, 458, 459, 460, 461, 462, 463, 464, 465, 466, 467, 468,\n",
       "       469, 470, 471, 472, 473, 474, 475, 476, 477, 478, 479, 480, 481,\n",
       "       482, 483, 484, 485, 486, 487, 488, 489, 490, 491, 492, 493, 494,\n",
       "       495, 496, 497, 498, 499], dtype=int64)"
      ]
     },
     "execution_count": 196,
     "metadata": {},
     "output_type": "execute_result"
    }
   ],
   "source": [
    "successful_games\n"
   ]
  },
  {
   "cell_type": "code",
   "execution_count": 197,
   "id": "d3530684",
   "metadata": {},
   "outputs": [
    {
     "data": {
      "text/plain": [
       "RangeIndex(start=0, stop=36699, step=1)"
      ]
     },
     "execution_count": 197,
     "metadata": {},
     "output_type": "execute_result"
    }
   ],
   "source": [
    "progress.index"
   ]
  },
  {
   "cell_type": "code",
   "execution_count": 198,
   "id": "97482e2f",
   "metadata": {},
   "outputs": [],
   "source": [
    "pitch_size = [(round(float(pitch_s[0][1:]),1), round(float(pitch_s[1][:-1]), 1))for pitch_s in pitch_size]"
   ]
  },
  {
   "cell_type": "code",
   "execution_count": 199,
   "id": "10fb38d1",
   "metadata": {},
   "outputs": [],
   "source": [
    "while game_failed != []:\n",
    "    print(len(game_failed))\n",
    "    final_ind = game_end.index(game_failed[-1])\n",
    "    final = game_failed[-1]\n",
    "    start_ind = game_end[final_ind-1]\n",
    "    index_list = progress.index[start_ind+1:final+1]\n",
    "    progress.drop(index_list, 0, inplace=True)\n",
    "    game_end = [a for a in np.where(progress[\"done\"]==1)[0]]\n",
    "    game_failed = [a for a in np.where(progress[\"done\"]*progress[\"goal_H_A\"] == -1)[0]]"
   ]
  },
  {
   "cell_type": "code",
   "execution_count": 200,
   "id": "4e48e2ea",
   "metadata": {},
   "outputs": [
    {
     "data": {
      "text/plain": [
       "Index(['hit', 'ball_position_x', 'ball_position_y', 'repossessed',\n",
       "       '2_hit_dist', 'interception', 'last_hit', 'vel_0', 'vel_1',\n",
       "       'received_pass_0', 'received_pass_1', 'player_0_pos_x',\n",
       "       'player_1_pos_x', 'player_0_pos_y', 'player_1_pos_y', 'ball_out',\n",
       "       'hit_H_A', 'goal_H_A', 'done'],\n",
       "      dtype='object')"
      ]
     },
     "execution_count": 200,
     "metadata": {},
     "output_type": "execute_result"
    }
   ],
   "source": [
    "progress.columns\n"
   ]
  },
  {
   "cell_type": "code",
   "execution_count": 201,
   "id": "747bac16",
   "metadata": {},
   "outputs": [],
   "source": [
    "hit_d = [a for a in np.where(progress[\"hit_H_A\"]==1)[0]]"
   ]
  },
  {
   "cell_type": "code",
   "execution_count": 202,
   "id": "5858edb2",
   "metadata": {},
   "outputs": [
    {
     "data": {
      "text/plain": [
       "0               -1\n",
       "1               -1\n",
       "2               -1\n",
       "3               -1\n",
       "4               -1\n",
       "           ...    \n",
       "36694    HOME_id=1\n",
       "36695    HOME_id=1\n",
       "36696    HOME_id=1\n",
       "36697    HOME_id=1\n",
       "36698    HOME_id=1\n",
       "Name: last_hit, Length: 36699, dtype: object"
      ]
     },
     "execution_count": 202,
     "metadata": {},
     "output_type": "execute_result"
    }
   ],
   "source": [
    "progress[\"last_hit\"]"
   ]
  },
  {
   "cell_type": "code",
   "execution_count": 203,
   "id": "02035db4",
   "metadata": {},
   "outputs": [],
   "source": [
    "hits = [a for a in np.where(progress[\"hit\"]==1)[0]]"
   ]
  },
  {
   "cell_type": "code",
   "execution_count": 204,
   "id": "ce9bcd2d",
   "metadata": {},
   "outputs": [],
   "source": [
    "ball_out = [a for a in np.where(progress[\"goal_H_A\"]*(1-progress[\"done\"])==1)[0]]"
   ]
  },
  {
   "cell_type": "code",
   "execution_count": 205,
   "id": "b186ec74",
   "metadata": {},
   "outputs": [
    {
     "ename": "IndexError",
     "evalue": "list index out of range",
     "output_type": "error",
     "traceback": [
      "\u001b[1;31m---------------------------------------------------------------------------\u001b[0m",
      "\u001b[1;31mIndexError\u001b[0m                                Traceback (most recent call last)",
      "\u001b[1;32m<ipython-input-205-9c1b1b41dab6>\u001b[0m in \u001b[0;36m<module>\u001b[1;34m\u001b[0m\n\u001b[0;32m     13\u001b[0m \u001b[0mprev_index\u001b[0m \u001b[1;33m=\u001b[0m \u001b[1;36m0\u001b[0m\u001b[1;33m\u001b[0m\u001b[1;33m\u001b[0m\u001b[0m\n\u001b[0;32m     14\u001b[0m \u001b[1;32mfor\u001b[0m \u001b[0mgame_n\u001b[0m\u001b[1;33m,\u001b[0m \u001b[0mindex\u001b[0m \u001b[1;32min\u001b[0m \u001b[0menumerate\u001b[0m\u001b[1;33m(\u001b[0m\u001b[0mgame_end\u001b[0m\u001b[1;33m)\u001b[0m\u001b[1;33m:\u001b[0m\u001b[1;33m\u001b[0m\u001b[1;33m\u001b[0m\u001b[0m\n\u001b[1;32m---> 15\u001b[1;33m     \u001b[0mpx\u001b[0m\u001b[1;33m,\u001b[0m \u001b[0mpy\u001b[0m \u001b[1;33m=\u001b[0m \u001b[0mpitch_size\u001b[0m\u001b[1;33m[\u001b[0m\u001b[0mgame_n\u001b[0m\u001b[1;33m]\u001b[0m\u001b[1;33m\u001b[0m\u001b[1;33m\u001b[0m\u001b[0m\n\u001b[0m\u001b[0;32m     16\u001b[0m \u001b[1;33m\u001b[0m\u001b[0m\n\u001b[0;32m     17\u001b[0m     \u001b[1;32mif\u001b[0m \u001b[0mprogress\u001b[0m\u001b[1;33m[\u001b[0m\u001b[1;34m\"last_hit\"\u001b[0m\u001b[1;33m]\u001b[0m\u001b[1;33m.\u001b[0m\u001b[0miloc\u001b[0m\u001b[1;33m[\u001b[0m\u001b[0mindex\u001b[0m\u001b[1;33m]\u001b[0m \u001b[1;33m==\u001b[0m \u001b[1;34m\"HOME_id=0\"\u001b[0m\u001b[1;33m:\u001b[0m\u001b[1;33m\u001b[0m\u001b[1;33m\u001b[0m\u001b[0m\n",
      "\u001b[1;31mIndexError\u001b[0m: list index out of range"
     ]
    }
   ],
   "source": [
    "score_x0 = []\n",
    "score_y0 = []\n",
    "score_x1 = []\n",
    "score_y1 = []\n",
    "x0_pos = []\n",
    "y0_pos = []\n",
    "x1_pos = []\n",
    "y1_pos = []\n",
    "xb_pos = []\n",
    "yb_pos = []\n",
    "pitch_x = 24\n",
    "pitch_y = 18\n",
    "prev_index = 0\n",
    "for game_n, index in enumerate(game_end):\n",
    "    px, py = pitch_size[game_n]\n",
    "\n",
    "    if progress[\"last_hit\"].iloc[index] == \"HOME_id=0\":\n",
    "        score_x0 += [pitch_x*np.round(progress[\"player_0_pos_x\"].iloc[index-1],1)/px]\n",
    "        score_y0 += [pitch_y*np.round(progress[\"player_0_pos_y\"].iloc[index-1],1)/py]\n",
    "    elif progress[\"last_hit\"].iloc[index] == \"HOME_id=1\":\n",
    "        score_x1 += [pitch_x*np.round(progress[\"player_1_pos_x\"].iloc[index],1)/px]\n",
    "        score_y1 += [pitch_y*np.round(progress[\"player_1_pos_y\"].iloc[index],1)/py]\n",
    "    x0_pos += list(pitch_x*np.round(progress[\"player_0_pos_x\"].iloc[index-1:index+1],1)/px)\n",
    "    y0_pos +=  list(pitch_y*np.round(progress[\"player_0_pos_y\"].iloc[index-1:index+1],1)/py)\n",
    "    x1_pos += list(pitch_x*np.round(progress[\"player_1_pos_x\"].iloc[index-1:index+1],1)/px)\n",
    "    y1_pos +=  list(pitch_y*np.round(progress[\"player_1_pos_y\"].iloc[index-1:index+1],1)/py)\n",
    "    xb_pos += list(pitch_x*np.round(progress['ball_position_x'].iloc[index-1:index+1],1)/px)\n",
    "    yb_pos +=  list(pitch_y*np.round(progress['ball_position_y'].iloc[index-1:index+1],1)/py)\n",
    "    prev_index = index+1\n",
    "x0_pos = np.array(x0_pos)[..., np.newaxis]\n",
    "y0_pos = np.array(y0_pos)[..., np.newaxis]\n",
    "x1_pos = np.array(x1_pos)[..., np.newaxis]\n",
    "y1_pos = np.array(y1_pos)[..., np.newaxis]\n",
    "xb_pos = np.array(xb_pos)[..., np.newaxis]\n",
    "yb_pos = np.array(yb_pos)[..., np.newaxis]\n",
    "\n"
   ]
  },
  {
   "cell_type": "code",
   "execution_count": null,
   "id": "0b0d156c",
   "metadata": {},
   "outputs": [],
   "source": [
    "progress.reset_index(drop=True, inplace=True)"
   ]
  },
  {
   "cell_type": "code",
   "execution_count": null,
   "id": "6a36a136",
   "metadata": {},
   "outputs": [],
   "source": [
    "import seaborn as sns"
   ]
  },
  {
   "cell_type": "code",
   "execution_count": null,
   "id": "a12f2a46",
   "metadata": {},
   "outputs": [],
   "source": [
    "from matplotlib.colors import LinearSegmentedColormap\n",
    "import matplotlib.image as mpimg\n",
    "\n",
    "colors = [(0,0,0), (0, 1, 1), (0, 1, 0.75), (0, 1, 0), (0.75, 1, 0),\n",
    "          (1, 1, 0), (1, 0.8, 0), (1, 0.7, 0), (1, 0, 0)]\n",
    "img = mpimg.imread('futbol_field.png')\n",
    "\n",
    "x_pos = [x0_pos, x1_pos, score_x0, score_x1, xb_pos]\n",
    "y_pos = [y0_pos, y1_pos, score_y0, score_y1, yb_pos]\n",
    "labels = [\"p0_pos\", \"p1_pos\", \"p0_score_pos\", \"p1_score_pos\", \"ball_pos_at_score\"]\n",
    "position = zip(x_pos, y_pos)\n",
    "#cm = LinearSegmentedColormap.from_list('sample', colors)\n",
    "fig=plt.figure(figsize=(10,7))\n",
    "columns = 3\n",
    "rows = 2\n",
    "for i, x in enumerate(position):\n",
    "    fig.add_subplot(rows, columns, i+1)\n",
    "    plt.imshow(img.transpose(1,0,2),  origin='lower', extent=[-18, 18, -24, 24])\n",
    "    plt.scatter(x[1], x[0], color=colors[i])\n",
    "    plt.title(labels[i])\n",
    "plt.show()\n",
    "'''\n",
    "fig, ax = plt.subplots(3, 2,figsize=(10, 15))\n",
    "ax[0, 0].imshow(img.transpose(1,0,2),  origin='lower', extent=[-18, 18, -24, 24])\n",
    "ax[0, 1].imshow(img.transpose(1,0,2),  origin='lower', extent=[-18, 18, -24, 24])\n",
    "ax[1, 1].imshow(img.transpose(1,0,2),  origin='lower', extent=[-18, 18, -24, 24])\n",
    "ax[1, 0].imshow(img.transpose(1,0,2),  origin='lower', extent=[-18, 18, -24, 24])\n",
    "ax[2, 0].imshow(img.transpose(1,0,2),  origin='lower', extent=[-18, 18, -24, 24])\n",
    "ax[0,0].scatter(y0_pos, x0_pos, color='b', label=\"player 0\")\n",
    "ax[0, 1].scatter(y1_pos, x1_pos, color='m', label=\"player 1\")\n",
    "ax[2, 0].scatter(yb_pos, xb_pos, color='r', label=\"ball pos at kick\")\n",
    "ax[1, 1].scatter(score_y0, score_x0, color='k', label=\"score pos p0\")\n",
    "ax[1, 0].scatter(score_y1, score_x1, color=\"c\", label= \"score pos p1\")\n",
    "\n",
    "plt.legend()\n",
    "#plt.colorbar()\n",
    "plt.show()\n",
    "'''\n",
    "\n"
   ]
  },
  {
   "cell_type": "code",
   "execution_count": null,
   "id": "52c13a13",
   "metadata": {},
   "outputs": [],
   "source": []
  },
  {
   "cell_type": "code",
   "execution_count": null,
   "id": "a6e0b7d8",
   "metadata": {},
   "outputs": [],
   "source": [
    "fig, ax = plt.subplots()\n",
    "receivers = [\"player 0\", \"player1\"]\n",
    "received_pass = [np.sum(progress[\"received_pass_0\"]), np.sum(progress[\"received_pass_1\"])]\n",
    "total_pass = sum(received_pass)\n",
    "received_pass = [pass_pi/total_pass for pass_pi in received_pass]\n",
    "plt.bar(receivers, received_pass)\n",
    "plt.title(\"Amount of Received passes\")"
   ]
  },
  {
   "cell_type": "code",
   "execution_count": null,
   "id": "10162b19",
   "metadata": {},
   "outputs": [],
   "source": [
    "fig, ax = plt.subplots()\n",
    "receivers = [\"player 0\", \"player1\"]\n",
    "scored_goals = [len(score_x0), len(score_x1)]\n",
    "print(scored_goals)\n",
    "total_goals = sum(scored_goals)\n",
    "print(total_goals)\n",
    "scored_goals = [goal_pi/total_goals for goal_pi in scored_goals]\n",
    "plt.bar(receivers, scored_goals)\n",
    "plt.title(\"Amount of Goals Scored\")"
   ]
  },
  {
   "cell_type": "code",
   "execution_count": null,
   "id": "762cc9cb",
   "metadata": {},
   "outputs": [],
   "source": [
    "plt.hist(progress[\"2_hit_dist\"].iloc[np.where(progress[\"2_hit_dist\"]>0)[0]], density=True)\n",
    "plt.title(\"2 hit distance\")\n",
    "plt.xlabel(\"hit distance\")"
   ]
  },
  {
   "cell_type": "code",
   "execution_count": null,
   "id": "bb484219",
   "metadata": {},
   "outputs": [],
   "source": [
    "diff =np.hstack([x0_pos, y0_pos]) - np.hstack([x1_pos, y1_pos])\n",
    "diff2 = np.square(diff)\n",
    "mse = np.sqrt(np.sum(diff2, axis=1))\n",
    "plt.hist(mse, density=True)\n",
    "plt.title(\"player distance in scored matches\")\n",
    "plt.xlabel(\"player distance\")\n",
    "plt.ylabel(\"frequency\")"
   ]
  },
  {
   "cell_type": "code",
   "execution_count": null,
   "id": "643bed33",
   "metadata": {},
   "outputs": [],
   "source": [
    "x = np.arange(-24, 25, 1)\n",
    "y = np.arange(-18, 19, 1)\n",
    "xx, yy = np.meshgrid(x, y)\n",
    "print(xx.shape, yy.shape)"
   ]
  },
  {
   "cell_type": "code",
   "execution_count": null,
   "id": "6aa2698d",
   "metadata": {},
   "outputs": [],
   "source": [
    "#volver el cálculo de la parte inferior matricial\n",
    "progress.index"
   ]
  },
  {
   "cell_type": "code",
   "execution_count": null,
   "id": "0e685b9e",
   "metadata": {},
   "outputs": [],
   "source": [
    "import statistics\n",
    "vel1 = np.zeros((yy.shape[0], xx.shape[1]))\n",
    "freq1 = np.zeros((yy.shape[0], xx.shape[1]))\n",
    "vel0 = np.zeros((yy.shape[0], xx.shape[1]))\n",
    "freq0 = np.zeros((yy.shape[0], xx.shape[1]))\n",
    "closest = lambda M, x: np.argmin(np.abs(x-M))\n",
    "\n",
    "for p_i in progress.index:\n",
    "\n",
    "    x1, y1 = progress.iloc[p_i][\"player_1_pos_x\"], progress.iloc[p_i][\"player_1_pos_y\"]\n",
    "    x0, y0 = progress.iloc[p_i][\"player_0_pos_x\"], progress.iloc[p_i][\"player_0_pos_y\"]\n",
    "    ix1, iy1 = closest(xx[0,:], x1), closest(yy[:, 0], y1)\n",
    "    vel1[iy1, ix1] = statistics.mean([vel1[iy1, ix1], progress.iloc[p_i][\"vel_1\"]])\n",
    "    freq1[iy1, ix1] += 1\n",
    "    ix0, iy0 = closest(xx[0,:], x0), closest(yy[:, 0], y0)\n",
    "    vel0[iy0, ix0] = statistics.mean([vel0[iy0, ix0], progress.iloc[p_i][\"vel_0\"]])\n",
    "    freq0[iy0, ix0] += 1\n",
    "\n",
    "freq1 /= len(progress.index)\n",
    "freq0 /= len(progress.index)\n",
    "\n"
   ]
  },
  {
   "cell_type": "code",
   "execution_count": null,
   "id": "34338504",
   "metadata": {},
   "outputs": [],
   "source": [
    "print(np.max(vel1), np.min(vel1))\n",
    "print(np.max(vel0), np.min(vel0))"
   ]
  },
  {
   "cell_type": "code",
   "execution_count": null,
   "id": "5d397593",
   "metadata": {},
   "outputs": [],
   "source": [
    "freq1 = freq1/(np.max(freq1) - np.min(freq1))\n",
    "freq0 = freq0/(np.max(freq0) - np.min(freq0))\n",
    "vel1 = 2*(vel1-np.min(vel1))/(np.max(vel1) - np.min(vel1))-1\n",
    "print(np.max(vel1), np.min(vel1))"
   ]
  },
  {
   "cell_type": "code",
   "execution_count": null,
   "id": "5b1bc8f5",
   "metadata": {},
   "outputs": [],
   "source": [
    "\n",
    "vel0 = 2*(vel0-np.min(vel0))/(np.max(vel0) - np.min(vel0))-1 \n",
    "print(np.max(vel0), np.min(vel0))"
   ]
  },
  {
   "cell_type": "markdown",
   "id": "55820023",
   "metadata": {},
   "source": [
    "#FIXME: \n",
    "1. PASAR CANCHA A BLANCO (listo)\n",
    "2. verificar proporciones cancha\n",
    "3. Reescalar entre 0 y 1. (listo)\n",
    "4. ver mejor combinación de alphas. (listo)\n",
    "5. campo con flechas. (listo)\n",
    "6. dejar de la misma forma color maps (listo)\n",
    "7. como proseguir en entrenamiento\n",
    "8. Ver posibilidad de correr en docker.\n",
    "quiver"
   ]
  },
  {
   "cell_type": "code",
   "execution_count": null,
   "id": "721bbdc1",
   "metadata": {},
   "outputs": [],
   "source": [
    "\n",
    "def generate_field(ax, pitch_size=[24, 18]):\n",
    "\n",
    "    rg = 7.32/90\n",
    "    rgs = (11 + 7.32)/90\n",
    "    ra = 40.32/90\n",
    "    rav = 16.5/60\n",
    "    rac = 5.5/60\n",
    "\n",
    "   \n",
    "\n",
    "    #Pitch Outline & Centre Line\n",
    "    plt.plot([-pitch_size[0],-pitch_size[0]],[-pitch_size[1],pitch_size[1]], color=\"black\")\n",
    "    plt.plot([-pitch_size[0], pitch_size[0]],[pitch_size[1],pitch_size[1]], color=\"black\")\n",
    "    plt.plot([pitch_size[0], pitch_size[0]],[-pitch_size[1],pitch_size[1]], color=\"black\")\n",
    "    plt.plot([-pitch_size[0], pitch_size[0]],[-pitch_size[1], -pitch_size[1]], color=\"black\")\n",
    "    plt.plot([0,0],[-pitch_size[1],pitch_size[1]], color=\"black\")\n",
    "\n",
    "    # circles of the center:\n",
    "    centreCircle = plt.Circle((0,0), 0.1*pitch_size[1] ,color=\"black\",fill=False)\n",
    "    ax.add_patch(centreCircle)\n",
    "\n",
    "\n",
    "    #Area grande Izquierda\n",
    "    plt.plot([-pitch_size[0]+pitch_size[0]*rav, -pitch_size[0]+pitch_size[0]*rav], [-pitch_size[1]*ra, pitch_size[1]*ra], \n",
    "                color=\"black\")\n",
    "    plt.plot([-pitch_size[0], -pitch_size[0] + pitch_size[0]*rav],[-pitch_size[1]*ra, -pitch_size[1]*ra],color=\"black\")\n",
    "    plt.plot([-pitch_size[0], -pitch_size[0] + pitch_size[0]*rav],[pitch_size[1]*ra, pitch_size[1]*ra],color=\"black\")\n",
    "\n",
    "\n",
    "\n",
    "    #Area grande derecha\n",
    "    plt.plot([pitch_size[0]-pitch_size[0]*rav, pitch_size[0]-pitch_size[0]*rav], [-pitch_size[1]*ra, pitch_size[1]*ra], \n",
    "                color=\"black\")\n",
    "    plt.plot([pitch_size[0], pitch_size[0] - pitch_size[0]*rav],[-pitch_size[1]*ra, -pitch_size[1]*ra],color=\"black\")\n",
    "    plt.plot([pitch_size[0], pitch_size[0] - pitch_size[0]*rav],[pitch_size[1]*ra, pitch_size[1]*ra],color=\"black\")\n",
    "\n",
    "\n",
    "    #Area Chica izquierda\n",
    "    plt.plot([-pitch_size[0], -pitch_size[0] + rac*pitch_size[0]],[-pitch_size[1]*rav, -pitch_size[1]*rav],color=\"black\")\n",
    "    plt.plot([-pitch_size[0], -pitch_size[0] + rac*pitch_size[0]],[pitch_size[1]*rav, pitch_size[1]*rav],color=\"black\")\n",
    "    plt.plot([-pitch_size[0]+rac*pitch_size[0]]*2, [-pitch_size[1]*rav, pitch_size[1]*rav], color=\"black\")\n",
    "\n",
    "    #Area Chica derecha\n",
    "    plt.plot([pitch_size[0], pitch_size[0] - rac*pitch_size[0]],[-pitch_size[1]*rav, -pitch_size[1]*rav],color=\"black\")\n",
    "    plt.plot([pitch_size[0], pitch_size[0] - rac*pitch_size[0]],[pitch_size[1]*rav, pitch_size[1]*rav],color=\"black\")\n",
    "    plt.plot([pitch_size[0]-rac*pitch_size[0]]*2, [-pitch_size[1]*rav, pitch_size[1]*rav], color=\"black\")\n",
    "\n",
    "\n",
    "    #Tidy Axes\n",
    "    #plt.axis('off')\n",
    "\n",
    "    #sns.kdeplot(data[\"Xstart\"],data[\"Ystart\"], shade=True,n_levels=50)\n",
    "    #plt.ylim(-pitch_size[1], pitch_size[1])\n",
    "    #plt.xlim(-pitch_size[0], pitch_size[0])\n",
    "\n",
    "\n"
   ]
  },
  {
   "cell_type": "code",
   "execution_count": null,
   "id": "1438a654",
   "metadata": {},
   "outputs": [],
   "source": [
    "vel0  = vel0*freq0\n",
    "vel0[vel0==0.000] = np.nan\n",
    "freq0[freq0==0.000] = np.nan"
   ]
  },
  {
   "cell_type": "code",
   "execution_count": null,
   "id": "df7e5ca7",
   "metadata": {},
   "outputs": [],
   "source": [
    "vel1  = vel1*freq1\n",
    "vel1[vel1==0.000] = np.nan\n",
    "freq1[freq1==0.000] = np.nan"
   ]
  },
  {
   "cell_type": "code",
   "execution_count": null,
   "id": "46168404",
   "metadata": {},
   "outputs": [],
   "source": [
    "\n",
    "#Create figure\n",
    "fig=plt.figure()\n",
    "fig.set_size_inches(7, 5)\n",
    "ax=fig.add_subplot(1,1,1)\n",
    "generate_field(ax)\n",
    "#sns.kdeplot(progress[\"player_0_pos_x\"], progress[\"player_0_pos_y\"], shade=\"True\", alpha=.5, color=\"red\")\n",
    "p = ax.pcolor(xx,yy,freq0, cmap = plt.get_cmap(\"Reds\"), alpha=0.6)\n",
    "q = ax.pcolor(xx, yy, vel0, cmap = plt.get_cmap(\"BrBG\"), alpha=0.47)\n",
    "\n",
    "\n",
    "vel_color = plt.colorbar(q)\n",
    "freq_color = plt.colorbar(p)\n",
    "freq_color.ax.set_title(\"frequency\")\n",
    "vel_color.ax.set_title(\"velocity\")\n",
    "plt.title(\"heatmap of position and velocity to ball player 0\", y=-0.2)\n",
    "\n",
    "plt.show()\n",
    "\n",
    "# color value with maximum\n"
   ]
  },
  {
   "cell_type": "code",
   "execution_count": null,
   "id": "ddf0bff3",
   "metadata": {},
   "outputs": [],
   "source": [
    "\n",
    "#Create figure\n",
    "fig=plt.figure()\n",
    "fig.set_size_inches(7, 5)\n",
    "ax=fig.add_subplot(1,1,1)\n",
    "generate_field(ax)\n",
    "sns.kdeplot(progress[\"player_1_pos_x\"], progress[\"player_1_pos_y\"], shade=\"True\", alpha=.5, color=\"red\")\n",
    "#p = ax.pcolor(xx,yy,freq0, cmap = plt.get_cmap(\"Reds\"), alpha=0.6)\n",
    "#q = ax.pcolor(xx, yy, vel0, cmap = plt.get_cmap(\"BrBG\"), alpha=0.47)\n",
    "\n",
    "\n",
    "#vel_color = plt.colorbar(q)\n",
    "#freq_color = plt.colorbar(p)\n",
    "#freq_color.ax.set_title(\"frequency\")\n",
    "#vel_color.ax.set_title(\"velocity\")\n",
    "plt.title(\"heatmap of position through out the game of player 1\", y=-0.2)\n",
    "\n",
    "plt.show()\n",
    "\n",
    "# color value with maximum\n"
   ]
  },
  {
   "cell_type": "code",
   "execution_count": null,
   "id": "c699b84f",
   "metadata": {},
   "outputs": [],
   "source": [
    "\n",
    "#Create figure\n",
    "fig=plt.figure()\n",
    "fig.set_size_inches(7, 5)\n",
    "ax=fig.add_subplot(1,1,1)\n",
    "generate_field(ax)\n",
    "sns.kdeplot(progress[\"player_0_pos_x\"], progress[\"player_0_pos_y\"], shade=\"True\", alpha=.5, color=\"red\")\n",
    "#p = ax.pcolor(xx,yy,freq0, cmap = plt.get_cmap(\"Reds\"), alpha=0.6)\n",
    "#q = ax.pcolor(xx, yy, vel0, cmap = plt.get_cmap(\"BrBG\"), alpha=0.47)\n",
    "\n",
    "\n",
    "#vel_color = plt.colorbar(q)\n",
    "#freq_color = plt.colorbar(p)\n",
    "#freq_color.ax.set_title(\"frequency\")\n",
    "#vel_color.ax.set_title(\"velocity\")\n",
    "plt.title(\"heatmap of position through out the game of player 0\", y=-0.2)\n",
    "\n",
    "plt.show()\n",
    "\n",
    "# color value with maximum\n"
   ]
  },
  {
   "cell_type": "code",
   "execution_count": null,
   "id": "abe55341",
   "metadata": {},
   "outputs": [],
   "source": [
    "vel1[vel1==0.000] = np.nan\n",
    "fig=plt.figure()\n",
    "fig.set_size_inches(7, 5)\n",
    "ax=fig.add_subplot(1,1,1)\n",
    "generate_field(ax)\n",
    "sns.kdeplot(progress[\"player_1_pos_x\"], progress[\"player_1_pos_y\"], shade=\"True\", alpha=.5, color=\"red\")\n",
    "#p = ax.pcolor(xx, yy, freq1, cmap = plt.get_cmap(\"Reds\"), alpha=0.6)\n",
    "#q = ax.pcolor(xx, yy,vel1*freq1, cmap = plt.get_cmap(\"BrBG\"), alpha=0.47)\n",
    "\n",
    "\n",
    "freq_color = plt.colorbar(p)\n",
    "vel_color = plt.colorbar(q)\n",
    "freq_color.ax.set_title(\"frequency\")\n",
    "#vel_color.ax.set_title(\"velocity\")\n",
    "plt.title(\"heatmap of position and velocity to ball player 1\", y=-0.2)\n",
    "\n",
    "plt.show()"
   ]
  },
  {
   "cell_type": "code",
   "execution_count": null,
   "id": "dbf7d921",
   "metadata": {},
   "outputs": [],
   "source": [
    "position0 = np.concatenate([x0_pos, y0_pos], -1)\n",
    "position1 = np.concatenate([x1_pos, y1_pos], -1)"
   ]
  },
  {
   "cell_type": "code",
   "execution_count": null,
   "id": "4cf86398",
   "metadata": {},
   "outputs": [],
   "source": [
    "vel02d = position0[1, :] - position0[0:-1, :]\n",
    "vel12d = position1[1, :] - position1[1:-1, :]"
   ]
  },
  {
   "cell_type": "code",
   "execution_count": null,
   "id": "485121c1",
   "metadata": {},
   "outputs": [],
   "source": [
    "g_index = 1\n",
    "g_start = game_end[g_index-1]+1 if g_index != 0 else game_end[0]\n",
    "g_end = game_end[g_index]"
   ]
  },
  {
   "cell_type": "code",
   "execution_count": null,
   "id": "8a0f713e",
   "metadata": {},
   "outputs": [],
   "source": [
    "vel02d[g_start:g_end-1, 0]"
   ]
  },
  {
   "cell_type": "code",
   "execution_count": null,
   "id": "79767dfe",
   "metadata": {},
   "outputs": [],
   "source": [
    "fig=plt.figure()\n",
    "fig.set_size_inches(7, 5)\n",
    "ax=fig.add_subplot(1,1,1)\n",
    "generate_field(ax)\n",
    "ax.quiver(position0[g_start+ 1:g_end, 0], position0[g_start+1:g_end, 1], vel02d[g_start:g_end-1, 0], vel02d[g_start:g_end-1, 1], color=\"r\")\n",
    "ax.set_title(\"velocity of player 0\")"
   ]
  },
  {
   "cell_type": "code",
   "execution_count": null,
   "id": "168554e5",
   "metadata": {},
   "outputs": [],
   "source": [
    "\n",
    "fig=plt.figure()\n",
    "fig.set_size_inches(7, 5)\n",
    "ax=fig.add_subplot(1,1,1)\n",
    "generate_field(ax)\n",
    "ax.quiver(position1[g_start+ 1:g_end, 0], position1[g_start+1:g_end, 1], vel12d[g_start:g_end-1, 0], vel12d[g_start:g_end-1, 1], color=\"r\", units=)\n",
    "ax.set_title(\"velocity of player 1\")"
   ]
  },
  {
   "cell_type": "code",
   "execution_count": null,
   "id": "2c47c771",
   "metadata": {},
   "outputs": [],
   "source": []
  },
  {
   "cell_type": "code",
   "execution_count": null,
   "id": "aa39ca0d",
   "metadata": {},
   "outputs": [],
   "source": []
  },
  {
   "cell_type": "code",
   "execution_count": null,
   "id": "7de76b6e",
   "metadata": {},
   "outputs": [],
   "source": []
  },
  {
   "cell_type": "code",
   "execution_count": null,
   "id": "9151e896",
   "metadata": {},
   "outputs": [],
   "source": []
  }
 ],
 "metadata": {
  "kernelspec": {
   "display_name": "Python 3.9.10 ('venv': venv)",
   "language": "python",
   "name": "python3"
  },
  "language_info": {
   "codemirror_mode": {
    "name": "ipython",
    "version": 3
   },
   "file_extension": ".py",
   "mimetype": "text/x-python",
   "name": "python",
   "nbconvert_exporter": "python",
   "pygments_lexer": "ipython3",
   "version": "3.9.10"
  },
  "vscode": {
   "interpreter": {
    "hash": "7dc15489a479b3f005ae4621e0980254ded1d44e20705062cf414519345c2263"
   }
  }
 },
 "nbformat": 4,
 "nbformat_minor": 5
}
